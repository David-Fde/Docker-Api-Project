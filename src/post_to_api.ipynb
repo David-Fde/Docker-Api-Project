{
 "nbformat": 4,
 "nbformat_minor": 2,
 "metadata": {
  "language_info": {
   "name": "python",
   "codemirror_mode": {
    "name": "ipython",
    "version": 3
   },
   "version": "3.6.9"
  },
  "orig_nbformat": 2,
  "file_extension": ".py",
  "mimetype": "text/x-python",
  "name": "python",
  "npconvert_exporter": "python",
  "pygments_lexer": "ipython3",
  "version": 3
 },
 "cells": [
  {
   "cell_type": "code",
   "execution_count": 33,
   "metadata": {},
   "outputs": [
    {
     "data": {
      "text/plain": "<Response [200]>"
     },
     "execution_count": 33,
     "metadata": {},
     "output_type": "execute_result"
    }
   ],
   "source": [
    "import requests\n",
    "import json\n",
    "\n",
    "#user = \"John Wick\"\n",
    "URL = \"http://localhost:8080/user\"\n",
    "\n",
    "data = {\n",
    "        \"chatId\" : 7,\n",
    "        \"userName\" : \"David\",\n",
    "        \"text\" : \"Hola Seora, que tal te ha ido el finde?\"\n",
    "        }\n",
    "\n",
    "requests.post(url = URL,data=data)\n",
    "\n",
    "#data.to_json(\"../output/chat\", orient=\"records\")"
   ]
  },
  {
   "cell_type": "code",
   "execution_count": null,
   "metadata": {},
   "outputs": [],
   "source": []
  },
  {
   "cell_type": "code",
   "execution_count": null,
   "metadata": {},
   "outputs": [],
   "source": []
  }
 ]
}