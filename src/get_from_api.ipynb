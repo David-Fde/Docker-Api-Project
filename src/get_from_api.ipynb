{
 "nbformat": 4,
 "nbformat_minor": 2,
 "metadata": {
  "language_info": {
   "name": "python",
   "codemirror_mode": {
    "name": "ipython",
    "version": 3
   },
   "version": "3.6.9"
  },
  "orig_nbformat": 2,
  "file_extension": ".py",
  "mimetype": "text/x-python",
  "name": "python",
  "npconvert_exporter": "python",
  "pygments_lexer": "ipython3",
  "version": 3
 },
 "cells": [
  {
   "cell_type": "code",
   "execution_count": 22,
   "metadata": {},
   "outputs": [],
   "source": [
    "import requests\n",
    "import json\n",
    "import pandas as pd\n",
    "\n",
    "#user = \"John Wick\"\n",
    "id = 8\n",
    "\n",
    "URL = \"http://localhost:8080/chat/{}/list\".format(id)\n",
    "\n",
    "\n",
    "data = requests.get(url = URL).json()\n",
    "\n",
    "#df = pd.DataFrame(data)\n",
    "\n",
    "#df.to_json(\"../output/chats/\", orient=\"records\")"
   ]
  },
  {
   "cell_type": "code",
   "execution_count": 23,
   "metadata": {},
   "outputs": [
    {
     "data": {
      "text/plain": "[{'_id': {'$oid': '5de5032a7ff24cc29260e361'},\n  'idUser': 22,\n  'userName': 'David',\n  'idChat': 8,\n  'text': 'Holiiiiiiiiiiiiiiiii'},\n {'_id': {'$oid': '5de5040e7ff24cc29260e362'},\n  'idUser': 23,\n  'userName': 'Maria',\n  'idChat': 8,\n  'text': 'Hello'},\n {'_id': {'$oid': '5de50691ef355cfa3681b0a3'},\n  'idUser': 25,\n  'idMessage': 55,\n  'userName': 'Elena',\n  'idChat': 8,\n  'datetime': {'$date': 1575294113038},\n  'text': 'Hola Grupo!!!!!!!!'},\n {'_id': {'$oid': '5de50791633c33897aee9e2c'},\n  'idUser': 26,\n  'idMessage': 56,\n  'userName': 'David',\n  'idChat': 8,\n  'datetime': 2019,\n  'text': 'Hola Grupo!!!!!!!!'},\n {'_id': {'$oid': '5de508e83e1fda3579271e72'},\n  'idUser': 27,\n  'idMessage': 57,\n  'userName': 'Seora',\n  'idChat': 8,\n  'datetime': {'$date': 1575294712847},\n  'text': 'Hola Grupo!!!!!!!!'},\n {'_id': {'$oid': '5de509213e1fda3579271e73'},\n  'idUser': 28,\n  'idMessage': 58,\n  'userName': 'Seora',\n  'idChat': 8,\n  'datetime': {'$date': 1575294769541},\n  'text': 'Fecha'},\n {'_id': {'$oid': '5de50936a928e53c0dcb8c49'},\n  'idUser': 29,\n  'idMessage': 59,\n  'userName': 'Seora',\n  'idChat': 8,\n  'datetime': '2019-12-02 13:53:10.002702',\n  'text': 'Fecha2'},\n {'_id': {'$oid': '5de530e966e3e9dd316b43d2'},\n  'idMessage': 66,\n  'idChat': 8,\n  'text': 'Este es un texto de prueba'}]"
     },
     "execution_count": 23,
     "metadata": {},
     "output_type": "execute_result"
    }
   ],
   "source": [
    "data"
   ]
  },
  {
   "cell_type": "code",
   "execution_count": 24,
   "metadata": {},
   "outputs": [
    {
     "ename": "KeyError",
     "evalue": "'userName'",
     "output_type": "error",
     "traceback": [
      "\u001b[0;31m---------------------------------------------------------------------------\u001b[0m",
      "\u001b[0;31mKeyError\u001b[0m                                  Traceback (most recent call last)",
      "\u001b[0;32m<ipython-input-24-086303f9281b>\u001b[0m in \u001b[0;36m<module>\u001b[0;34m\u001b[0m\n\u001b[1;32m      4\u001b[0m \u001b[0;32mfor\u001b[0m \u001b[0me\u001b[0m \u001b[0;32min\u001b[0m \u001b[0mdata\u001b[0m\u001b[0;34m:\u001b[0m\u001b[0;34m\u001b[0m\u001b[0;34m\u001b[0m\u001b[0m\n\u001b[1;32m      5\u001b[0m     \u001b[0mchats\u001b[0m\u001b[0;34m.\u001b[0m\u001b[0mappend\u001b[0m\u001b[0;34m(\u001b[0m\u001b[0me\u001b[0m\u001b[0;34m[\u001b[0m\u001b[0;34m\"idChat\"\u001b[0m\u001b[0;34m]\u001b[0m\u001b[0;34m)\u001b[0m\u001b[0;34m\u001b[0m\u001b[0;34m\u001b[0m\u001b[0m\n\u001b[0;32m----> 6\u001b[0;31m     \u001b[0musers\u001b[0m\u001b[0;34m.\u001b[0m\u001b[0mappend\u001b[0m\u001b[0;34m(\u001b[0m\u001b[0me\u001b[0m\u001b[0;34m[\u001b[0m\u001b[0;34m\"userName\"\u001b[0m\u001b[0;34m]\u001b[0m\u001b[0;34m)\u001b[0m\u001b[0;34m\u001b[0m\u001b[0;34m\u001b[0m\u001b[0m\n\u001b[0m\u001b[1;32m      7\u001b[0m     \u001b[0mtexts\u001b[0m\u001b[0;34m.\u001b[0m\u001b[0mappend\u001b[0m\u001b[0;34m(\u001b[0m\u001b[0me\u001b[0m\u001b[0;34m[\u001b[0m\u001b[0;34m\"text\"\u001b[0m\u001b[0;34m]\u001b[0m\u001b[0;34m)\u001b[0m\u001b[0;34m\u001b[0m\u001b[0;34m\u001b[0m\u001b[0m\n",
      "\u001b[0;31mKeyError\u001b[0m: 'userName'"
     ]
    }
   ],
   "source": [
    "chats = []\n",
    "texts = []\n",
    "users = []\n",
    "for e in data:\n",
    "    chats.append(e[\"idChat\"])\n",
    "    users.append(e[\"userName\"])\n",
    "    texts.append(e[\"text\"])"
   ]
  },
  {
   "cell_type": "code",
   "execution_count": 0,
   "metadata": {},
   "outputs": [],
   "source": [
    "texts"
   ]
  },
  {
   "cell_type": "code",
   "execution_count": 26,
   "metadata": {},
   "outputs": [
    {
     "data": {
      "text/plain": "{'David', 'Elena', 'Maria', 'Seora'}"
     },
     "execution_count": 26,
     "metadata": {},
     "output_type": "execute_result"
    }
   ],
   "source": [
    "set(users)"
   ]
  },
  {
   "cell_type": "code",
   "execution_count": 21,
   "metadata": {},
   "outputs": [
    {
     "data": {
      "text/plain": "[]"
     },
     "execution_count": 21,
     "metadata": {},
     "output_type": "execute_result"
    }
   ],
   "source": [
    "z = zip(users,texts)\n",
    "list(z)"
   ]
  },
  {
   "cell_type": "code",
   "execution_count": null,
   "metadata": {},
   "outputs": [],
   "source": []
  },
  {
   "cell_type": "code",
   "execution_count": 8,
   "metadata": {},
   "outputs": [],
   "source": [
    "import requests\n",
    "import json\n",
    "import pandas as pd\n",
    "\n",
    "user = \"Davicito\"\n",
    "#id = 4\n",
    "\n",
    "URL = \"http://localhost:8080/{}\".format(user)\n",
    "\n",
    "\n",
    "data = requests.get(url = URL).json()"
   ]
  },
  {
   "cell_type": "code",
   "execution_count": 9,
   "metadata": {},
   "outputs": [
    {
     "data": {
      "text/plain": "[{'_id': {'$oid': '5de5290ff4e8871162a9ce54'},\n  'idUser': 34,\n  'idMessage': 64,\n  'userName': 'Davicito',\n  'datetime': '2019-12-02 16:09:03.457532'}]"
     },
     "execution_count": 9,
     "metadata": {},
     "output_type": "execute_result"
    }
   ],
   "source": [
    "data"
   ]
  },
  {
   "cell_type": "code",
   "execution_count": null,
   "metadata": {},
   "outputs": [],
   "source": []
  }
 ]
}