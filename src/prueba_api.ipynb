{
 "nbformat": 4,
 "nbformat_minor": 2,
 "metadata": {
  "language_info": {
   "name": "python",
   "codemirror_mode": {
    "name": "ipython",
    "version": 3
   },
   "version": "3.6.9"
  },
  "orig_nbformat": 2,
  "file_extension": ".py",
  "mimetype": "text/x-python",
  "name": "python",
  "npconvert_exporter": "python",
  "pygments_lexer": "ipython3",
  "version": 3
 },
 "cells": [
  {
   "cell_type": "code",
   "execution_count": 1,
   "metadata": {},
   "outputs": [
    {
     "ename": "IndentationError",
     "evalue": "unindent does not match any outer indentation level (<tokenize>, line 20)",
     "output_type": "error",
     "traceback": [
      "\u001b[0;36m  File \u001b[0;32m\"<tokenize>\"\u001b[0;36m, line \u001b[0;32m20\u001b[0m\n\u001b[0;31m    db, coll = connectCollection('test','prueba_1')\u001b[0m\n\u001b[0m    ^\u001b[0m\n\u001b[0;31mIndentationError\u001b[0m\u001b[0;31m:\u001b[0m unindent does not match any outer indentation level\n"
     ]
    }
   ],
   "source": [
    "#!/usr/bin/python3\n",
    "\n",
    "from pymongo import MongoClient\n",
    "import getpass\n",
    "import json\n",
    "import os\n",
    "from dotenv import load_dotenv\n",
    "load_dotenv()\n",
    "\n",
    "#Get Password\n",
    "password = getpass.getpass(\"Insert your AtlasMongoDB admin_1019 password: \")\n",
    "connection_url = \"mongodb+srv://David-Fde:{}@api-cluster-6z1wo.mongodb.net/test?retryWrites=true&w=majority\".format(password)\n",
    "#Connect to DB\n",
    "client = MongoClient(connection_url)\n",
    "def connectCollection(database,collection):\n",
    "    db = client[database]\n",
    "    coll = db[collection]\n",
    "    return db, coll\n",
    "\n",
    "db, coll = connectCollection('test','prueba_1')\n",
    "\n",
    "with open(\"chats.json\") as f:\n",
    "    chats_json = json.load(f)\n",
    "coll.insert_many(chats_json)"
   ]
  },
  {
   "cell_type": "code",
   "execution_count": null,
   "metadata": {},
   "outputs": [],
   "source": []
  }
 ]
}