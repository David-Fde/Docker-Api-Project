{
 "nbformat": 4,
 "nbformat_minor": 2,
 "metadata": {
  "language_info": {
   "name": "python",
   "codemirror_mode": {
    "name": "ipython",
    "version": 3
   },
   "version": "3.6.9"
  },
  "orig_nbformat": 2,
  "file_extension": ".py",
  "mimetype": "text/x-python",
  "name": "python",
  "npconvert_exporter": "python",
  "pygments_lexer": "ipython3",
  "version": 3
 },
 "cells": [
  {
   "cell_type": "code",
   "execution_count": 1,
   "metadata": {},
   "outputs": [],
   "source": [
    "import pandas as pd\n",
    "from sklearn.feature_extraction.text import CountVectorizer\n",
    "import requests\n",
    "from sklearn.metrics.pairwise import cosine_similarity as distance\n",
    "import pandas as pd"
   ]
  },
  {
   "cell_type": "code",
   "execution_count": 22,
   "metadata": {},
   "outputs": [],
   "source": [
    "from nltk.tokenize import RegexpTokenizer\n",
    "from nltk.corpus import stopwords\n",
    "\n",
    "def tokenization(text):\n",
    "    tokens = nltk.word_tokenize(text)\n",
    "    tokenizer = RegexpTokenizer(r'\\w+')\n",
    "    tokens = tokenizer.tokenize(text)\n",
    "    nltk.download('stopwords')\n",
    "    stop_words = set(stopwords.words('english'))\n",
    "    tokens_clean = [e for e in tokens if e not in stop_words]\n",
    "    return tokens_clean"
   ]
  },
  {
   "cell_type": "code",
   "execution_count": 16,
   "metadata": {},
   "outputs": [],
   "source": [
    "for id in range(0,5):\n",
    "    URL = f\"http://localhost:8080\"\n",
    "    data = requests.get(url = URL).json()\n",
    "    df = pd.DataFrame(data)"
   ]
  },
  {
   "cell_type": "code",
   "execution_count": 19,
   "metadata": {},
   "outputs": [
    {
     "data": {
      "text/html": "<div>\n<style scoped>\n    .dataframe tbody tr th:only-of-type {\n        vertical-align: middle;\n    }\n\n    .dataframe tbody tr th {\n        vertical-align: top;\n    }\n\n    .dataframe thead th {\n        text-align: right;\n    }\n</style>\n<table border=\"1\" class=\"dataframe\">\n  <thead>\n    <tr style=\"text-align: right;\">\n      <th></th>\n      <th>_id</th>\n      <th>idUser</th>\n      <th>userName</th>\n      <th>idMessage</th>\n      <th>idChat</th>\n      <th>datetime</th>\n      <th>text</th>\n    </tr>\n  </thead>\n  <tbody>\n    <tr>\n      <th>0</th>\n      <td>{'$oid': '5de53db55c71bd8a34bc358f'}</td>\n      <td>0</td>\n      <td>John Wick</td>\n      <td>0</td>\n      <td>0</td>\n      <td>2019-10-17 10:15:41</td>\n      <td>Hey Mike, whats up??</td>\n    </tr>\n    <tr>\n      <th>1</th>\n      <td>{'$oid': '5de53db55c71bd8a34bc3590'}</td>\n      <td>1</td>\n      <td>Mike Wazowski</td>\n      <td>1</td>\n      <td>0</td>\n      <td>2019-10-17 10:16:59</td>\n      <td>Dude!!! 😀️ Did you watch the game last night?</td>\n    </tr>\n    <tr>\n      <th>2</th>\n      <td>{'$oid': '5de53db55c71bd8a34bc3591'}</td>\n      <td>0</td>\n      <td>John Wick</td>\n      <td>2</td>\n      <td>0</td>\n      <td>2019-10-17 10:17:31</td>\n      <td>No, had to work. How was it?</td>\n    </tr>\n    <tr>\n      <th>3</th>\n      <td>{'$oid': '5de53db55c71bd8a34bc3592'}</td>\n      <td>1</td>\n      <td>Mike Wazowski</td>\n      <td>3</td>\n      <td>0</td>\n      <td>2019-10-17 10:18:41</td>\n      <td>Awesome! Boyander scored 3 goals!</td>\n    </tr>\n    <tr>\n      <th>4</th>\n      <td>{'$oid': '5de53db55c71bd8a34bc3593'}</td>\n      <td>0</td>\n      <td>John Wick</td>\n      <td>4</td>\n      <td>0</td>\n      <td>2019-10-17 10:19:41</td>\n      <td>No way! 😮️</td>\n    </tr>\n    <tr>\n      <th>5</th>\n      <td>{'$oid': '5de53db55c71bd8a34bc3594'}</td>\n      <td>1</td>\n      <td>Mike Wazowski</td>\n      <td>5</td>\n      <td>0</td>\n      <td>2019-10-17 10:20:41</td>\n      <td>Way...</td>\n    </tr>\n    <tr>\n      <th>6</th>\n      <td>{'$oid': '5de53db55c71bd8a34bc3595'}</td>\n      <td>0</td>\n      <td>John Wick</td>\n      <td>6</td>\n      <td>0</td>\n      <td>2019-10-17 10:21:41</td>\n      <td>I bet people went crazy</td>\n    </tr>\n    <tr>\n      <th>7</th>\n      <td>{'$oid': '5de53db55c71bd8a34bc3596'}</td>\n      <td>1</td>\n      <td>Mike Wazowski</td>\n      <td>7</td>\n      <td>0</td>\n      <td>2019-10-17 10:22:41</td>\n      <td>For sure. We stayed at KuboLoco until 6AM.</td>\n    </tr>\n    <tr>\n      <th>8</th>\n      <td>{'$oid': '5de53db55c71bd8a34bc3597'}</td>\n      <td>0</td>\n      <td>John Wick</td>\n      <td>8</td>\n      <td>0</td>\n      <td>2019-10-17 10:23:41</td>\n      <td>Motherfucker! Hungover? 😵️</td>\n    </tr>\n    <tr>\n      <th>9</th>\n      <td>{'$oid': '5de53db55c71bd8a34bc3598'}</td>\n      <td>1</td>\n      <td>Mike Wazowski</td>\n      <td>9</td>\n      <td>0</td>\n      <td>2019-10-17 10:24:41</td>\n      <td>Dead, burried and still suffering! 🤮️</td>\n    </tr>\n    <tr>\n      <th>10</th>\n      <td>{'$oid': '5de53db55c71bd8a34bc3599'}</td>\n      <td>2</td>\n      <td>Leia Organa</td>\n      <td>10</td>\n      <td>1</td>\n      <td>2019-10-18 10:15:41</td>\n      <td>Im so angry right now!</td>\n    </tr>\n    <tr>\n      <th>11</th>\n      <td>{'$oid': '5de53db55c71bd8a34bc359a'}</td>\n      <td>3</td>\n      <td>Tony Stark</td>\n      <td>11</td>\n      <td>1</td>\n      <td>2019-10-18 10:16:41</td>\n      <td>I saw you this morning. You shouldnt get so up...</td>\n    </tr>\n    <tr>\n      <th>12</th>\n      <td>{'$oid': '5de53db55c71bd8a34bc359b'}</td>\n      <td>2</td>\n      <td>Leia Organa</td>\n      <td>12</td>\n      <td>1</td>\n      <td>2019-10-18 10:17:41</td>\n      <td>Impossible! Cant do it! Just cant! He pissed m...</td>\n    </tr>\n    <tr>\n      <th>13</th>\n      <td>{'$oid': '5de53db55c71bd8a34bc359c'}</td>\n      <td>3</td>\n      <td>Tony Stark</td>\n      <td>13</td>\n      <td>1</td>\n      <td>2019-10-18 10:18:41</td>\n      <td>Dont get so frustrated, Leia. Remember what Ge...</td>\n    </tr>\n    <tr>\n      <th>14</th>\n      <td>{'$oid': '5de53db55c71bd8a34bc359d'}</td>\n      <td>2</td>\n      <td>Leia Organa</td>\n      <td>14</td>\n      <td>1</td>\n      <td>2019-10-18 10:19:41</td>\n      <td>But how am I suposed to fix the facial recogni...</td>\n    </tr>\n    <tr>\n      <th>15</th>\n      <td>{'$oid': '5de53db55c71bd8a34bc359e'}</td>\n      <td>3</td>\n      <td>Tony Stark</td>\n      <td>15</td>\n      <td>1</td>\n      <td>2019-10-18 10:20:41</td>\n      <td>Im sure you will find a way.</td>\n    </tr>\n    <tr>\n      <th>16</th>\n      <td>{'$oid': '5de53db55c71bd8a34bc359f'}</td>\n      <td>2</td>\n      <td>Leia Organa</td>\n      <td>16</td>\n      <td>1</td>\n      <td>2019-10-18 10:21:41</td>\n      <td>And who the hell is Tony? 🤯️</td>\n    </tr>\n    <tr>\n      <th>17</th>\n      <td>{'$oid': '5de53db55c71bd8a34bc35a0'}</td>\n      <td>3</td>\n      <td>Tony Stark</td>\n      <td>17</td>\n      <td>1</td>\n      <td>2019-10-18 10:22:41</td>\n      <td>I am Iron Man</td>\n    </tr>\n    <tr>\n      <th>18</th>\n      <td>{'$oid': '5de53db55c71bd8a34bc35a1'}</td>\n      <td>2</td>\n      <td>Leia Organa</td>\n      <td>18</td>\n      <td>1</td>\n      <td>2019-10-18 10:23:41</td>\n      <td>Oh shit. I think youre friends with my brother.</td>\n    </tr>\n    <tr>\n      <th>19</th>\n      <td>{'$oid': '5de53db55c71bd8a34bc35a2'}</td>\n      <td>3</td>\n      <td>Tony Stark</td>\n      <td>19</td>\n      <td>1</td>\n      <td>2019-10-18 10:24:41</td>\n      <td>Uh-Oh. Better fix that quickly.</td>\n    </tr>\n    <tr>\n      <th>20</th>\n      <td>{'$oid': '5de53db55c71bd8a34bc35a3'}</td>\n      <td>1</td>\n      <td>Mike Wazowski</td>\n      <td>20</td>\n      <td>2</td>\n      <td>2019-10-19 10:15:41</td>\n      <td>Sweety pie! How Ive longed to talk to you.</td>\n    </tr>\n    <tr>\n      <th>21</th>\n      <td>{'$oid': '5de53db55c71bd8a34bc35a4'}</td>\n      <td>4</td>\n      <td>Ellen Ripley</td>\n      <td>21</td>\n      <td>2</td>\n      <td>2019-10-19 10:16:41</td>\n      <td>Not again, Michael.... 😒️</td>\n    </tr>\n    <tr>\n      <th>22</th>\n      <td>{'$oid': '5de53db55c71bd8a34bc35a5'}</td>\n      <td>1</td>\n      <td>Mike Wazowski</td>\n      <td>22</td>\n      <td>2</td>\n      <td>2019-10-19 10:17:41</td>\n      <td>Its Mike, honey bunny. Or doctor LOVE! And you...</td>\n    </tr>\n    <tr>\n      <th>23</th>\n      <td>{'$oid': '5de53db55c71bd8a34bc35a6'}</td>\n      <td>4</td>\n      <td>Ellen Ripley</td>\n      <td>23</td>\n      <td>2</td>\n      <td>2019-10-19 10:18:41</td>\n      <td>Im gonna report you to Human Resources again, ...</td>\n    </tr>\n    <tr>\n      <th>24</th>\n      <td>{'$oid': '5de53db55c71bd8a34bc35a7'}</td>\n      <td>1</td>\n      <td>Mike Wazowski</td>\n      <td>24</td>\n      <td>2</td>\n      <td>2019-10-19 10:19:41</td>\n      <td>Cant handle me on your own?</td>\n    </tr>\n    <tr>\n      <th>25</th>\n      <td>{'$oid': '5de53db55c71bd8a34bc35a8'}</td>\n      <td>4</td>\n      <td>Ellen Ripley</td>\n      <td>25</td>\n      <td>2</td>\n      <td>2019-10-19 10:20:41</td>\n      <td>Id rather have a fucking alien crawling out of...</td>\n    </tr>\n    <tr>\n      <th>26</th>\n      <td>{'$oid': '5de53db55c71bd8a34bc35a9'}</td>\n      <td>1</td>\n      <td>Mike Wazowski</td>\n      <td>26</td>\n      <td>2</td>\n      <td>2019-10-19 10:21:41</td>\n      <td>That would be hot... 🔥️</td>\n    </tr>\n    <tr>\n      <th>27</th>\n      <td>{'$oid': '5de53db55c71bd8a34bc35aa'}</td>\n      <td>4</td>\n      <td>Ellen Ripley</td>\n      <td>27</td>\n      <td>2</td>\n      <td>2019-10-19 10:22:41</td>\n      <td>Ok, youve got to stop drinking! Im calling HR.</td>\n    </tr>\n    <tr>\n      <th>28</th>\n      <td>{'$oid': '5de53db55c71bd8a34bc35ab'}</td>\n      <td>1</td>\n      <td>Mike Wazowski</td>\n      <td>28</td>\n      <td>2</td>\n      <td>2019-10-19 10:23:41</td>\n      <td>I NEED VODKA LIKE A CAR NEEDS GAS</td>\n    </tr>\n    <tr>\n      <th>29</th>\n      <td>{'$oid': '5de53db55c71bd8a34bc35ac'}</td>\n      <td>4</td>\n      <td>Ellen Ripley</td>\n      <td>29</td>\n      <td>2</td>\n      <td>2019-10-19 10:24:41</td>\n      <td>Dude... Alcoholics Anonymous: https://www.aa.org</td>\n    </tr>\n    <tr>\n      <th>30</th>\n      <td>{'$oid': '5de53db55c71bd8a34bc35ad'}</td>\n      <td>5</td>\n      <td>J. Jonah Jameson</td>\n      <td>30</td>\n      <td>3</td>\n      <td>2019-10-20 10:15:41</td>\n      <td>I want pictures of Spiderman and I want them now!</td>\n    </tr>\n    <tr>\n      <th>31</th>\n      <td>{'$oid': '5de53db55c71bd8a34bc35ae'}</td>\n      <td>0</td>\n      <td>John Wick</td>\n      <td>31</td>\n      <td>3</td>\n      <td>2019-10-20 10:16:41</td>\n      <td>Sure, boss.</td>\n    </tr>\n    <tr>\n      <th>32</th>\n      <td>{'$oid': '5de53db55c71bd8a34bc35af'}</td>\n      <td>5</td>\n      <td>J. Jonah Jameson</td>\n      <td>32</td>\n      <td>3</td>\n      <td>2019-10-20 10:17:41</td>\n      <td>Youve got to take me seriously.</td>\n    </tr>\n    <tr>\n      <th>33</th>\n      <td>{'$oid': '5de53db55c71bd8a34bc35b0'}</td>\n      <td>0</td>\n      <td>John Wick</td>\n      <td>33</td>\n      <td>3</td>\n      <td>2019-10-20 10:18:41</td>\n      <td>I do! I just dont feel appreciated in my job</td>\n    </tr>\n    <tr>\n      <th>34</th>\n      <td>{'$oid': '5de53db55c71bd8a34bc35b1'}</td>\n      <td>5</td>\n      <td>J. Jonah Jameson</td>\n      <td>34</td>\n      <td>3</td>\n      <td>2019-10-20 10:19:41</td>\n      <td>Thats why youve got to get those damm pictures!!</td>\n    </tr>\n    <tr>\n      <th>35</th>\n      <td>{'$oid': '5de53db55c71bd8a34bc35b2'}</td>\n      <td>0</td>\n      <td>John Wick</td>\n      <td>35</td>\n      <td>3</td>\n      <td>2019-10-20 10:20:41</td>\n      <td>I dunno...</td>\n    </tr>\n    <tr>\n      <th>36</th>\n      <td>{'$oid': '5de53db55c71bd8a34bc35b3'}</td>\n      <td>5</td>\n      <td>J. Jonah Jameson</td>\n      <td>36</td>\n      <td>3</td>\n      <td>2019-10-20 10:21:41</td>\n      <td>Get the god damn motherfucking fuckity fuck bl...</td>\n    </tr>\n    <tr>\n      <th>37</th>\n      <td>{'$oid': '5de53db55c71bd8a34bc35b4'}</td>\n      <td>0</td>\n      <td>John Wick</td>\n      <td>37</td>\n      <td>3</td>\n      <td>2019-10-20 10:22:41</td>\n      <td>Maybe</td>\n    </tr>\n    <tr>\n      <th>38</th>\n      <td>{'$oid': '5de53db55c71bd8a34bc35b5'}</td>\n      <td>5</td>\n      <td>J. Jonah Jameson</td>\n      <td>38</td>\n      <td>3</td>\n      <td>2019-10-20 10:23:41</td>\n      <td>Youve got to! And I believe in you</td>\n    </tr>\n    <tr>\n      <th>39</th>\n      <td>{'$oid': '5de53db55c71bd8a34bc35b6'}</td>\n      <td>0</td>\n      <td>John Wick</td>\n      <td>39</td>\n      <td>3</td>\n      <td>2019-10-20 10:24:41</td>\n      <td>Thank you, boss! I feel much better...</td>\n    </tr>\n    <tr>\n      <th>40</th>\n      <td>{'$oid': '5de53db55c71bd8a34bc35b7'}</td>\n      <td>6</td>\n      <td>Danny Torrances Finger</td>\n      <td>40</td>\n      <td>4</td>\n      <td>2019-10-21 10:15:41</td>\n      <td>REDRUM</td>\n    </tr>\n    <tr>\n      <th>41</th>\n      <td>{'$oid': '5de53db55c71bd8a34bc35b8'}</td>\n      <td>7</td>\n      <td>Danny Torrance</td>\n      <td>41</td>\n      <td>4</td>\n      <td>2019-10-21 10:16:41</td>\n      <td>What was that?</td>\n    </tr>\n    <tr>\n      <th>42</th>\n      <td>{'$oid': '5de53db55c71bd8a34bc35b9'}</td>\n      <td>6</td>\n      <td>Danny Torrances Finger</td>\n      <td>42</td>\n      <td>4</td>\n      <td>2019-10-21 10:17:41</td>\n      <td>REDRUM REDRUM REDRUM</td>\n    </tr>\n    <tr>\n      <th>43</th>\n      <td>{'$oid': '5de53db55c71bd8a34bc35ba'}</td>\n      <td>7</td>\n      <td>Danny Torrance</td>\n      <td>43</td>\n      <td>4</td>\n      <td>2019-10-21 10:18:41</td>\n      <td>Did you mean red room? Id love a red room.</td>\n    </tr>\n    <tr>\n      <th>44</th>\n      <td>{'$oid': '5de53db55c71bd8a34bc35bb'}</td>\n      <td>6</td>\n      <td>Danny Torrances Finger</td>\n      <td>44</td>\n      <td>4</td>\n      <td>2019-10-21 10:19:41</td>\n      <td>Murder, bro, cold blooded splashy murderous fun</td>\n    </tr>\n    <tr>\n      <th>45</th>\n      <td>{'$oid': '5de53db55c71bd8a34bc35bc'}</td>\n      <td>7</td>\n      <td>Danny Torrance</td>\n      <td>45</td>\n      <td>4</td>\n      <td>2019-10-21 10:20:41</td>\n      <td>Chill out, pinky.. Its such a nice day</td>\n    </tr>\n    <tr>\n      <th>46</th>\n      <td>{'$oid': '5de53db55c71bd8a34bc35bd'}</td>\n      <td>6</td>\n      <td>Danny Torrances Finger</td>\n      <td>46</td>\n      <td>4</td>\n      <td>2019-10-21 10:21:41</td>\n      <td>A nice day to create havoc!</td>\n    </tr>\n    <tr>\n      <th>47</th>\n      <td>{'$oid': '5de53db55c71bd8a34bc35be'}</td>\n      <td>7</td>\n      <td>Danny Torrance</td>\n      <td>47</td>\n      <td>4</td>\n      <td>2019-10-21 10:22:41</td>\n      <td>Ill go for a walk in the park, I guess. Maybe ...</td>\n    </tr>\n    <tr>\n      <th>48</th>\n      <td>{'$oid': '5de53db55c71bd8a34bc35bf'}</td>\n      <td>6</td>\n      <td>Danny Torrances Finger</td>\n      <td>48</td>\n      <td>4</td>\n      <td>2019-10-21 10:23:41</td>\n      <td>Fishing sounds good. What about the labyrinth?</td>\n    </tr>\n    <tr>\n      <th>49</th>\n      <td>{'$oid': '5de53db55c71bd8a34bc35c0'}</td>\n      <td>7</td>\n      <td>Danny Torrance</td>\n      <td>49</td>\n      <td>4</td>\n      <td>2019-10-21 10:24:41</td>\n      <td>No! That places creeps me out..</td>\n    </tr>\n  </tbody>\n</table>\n</div>",
      "text/plain": "                                     _id  idUser                userName  \\\n0   {'$oid': '5de53db55c71bd8a34bc358f'}       0               John Wick   \n1   {'$oid': '5de53db55c71bd8a34bc3590'}       1           Mike Wazowski   \n2   {'$oid': '5de53db55c71bd8a34bc3591'}       0               John Wick   \n3   {'$oid': '5de53db55c71bd8a34bc3592'}       1           Mike Wazowski   \n4   {'$oid': '5de53db55c71bd8a34bc3593'}       0               John Wick   \n5   {'$oid': '5de53db55c71bd8a34bc3594'}       1           Mike Wazowski   \n6   {'$oid': '5de53db55c71bd8a34bc3595'}       0               John Wick   \n7   {'$oid': '5de53db55c71bd8a34bc3596'}       1           Mike Wazowski   \n8   {'$oid': '5de53db55c71bd8a34bc3597'}       0               John Wick   \n9   {'$oid': '5de53db55c71bd8a34bc3598'}       1           Mike Wazowski   \n10  {'$oid': '5de53db55c71bd8a34bc3599'}       2             Leia Organa   \n11  {'$oid': '5de53db55c71bd8a34bc359a'}       3              Tony Stark   \n12  {'$oid': '5de53db55c71bd8a34bc359b'}       2             Leia Organa   \n13  {'$oid': '5de53db55c71bd8a34bc359c'}       3              Tony Stark   \n14  {'$oid': '5de53db55c71bd8a34bc359d'}       2             Leia Organa   \n15  {'$oid': '5de53db55c71bd8a34bc359e'}       3              Tony Stark   \n16  {'$oid': '5de53db55c71bd8a34bc359f'}       2             Leia Organa   \n17  {'$oid': '5de53db55c71bd8a34bc35a0'}       3              Tony Stark   \n18  {'$oid': '5de53db55c71bd8a34bc35a1'}       2             Leia Organa   \n19  {'$oid': '5de53db55c71bd8a34bc35a2'}       3              Tony Stark   \n20  {'$oid': '5de53db55c71bd8a34bc35a3'}       1           Mike Wazowski   \n21  {'$oid': '5de53db55c71bd8a34bc35a4'}       4            Ellen Ripley   \n22  {'$oid': '5de53db55c71bd8a34bc35a5'}       1           Mike Wazowski   \n23  {'$oid': '5de53db55c71bd8a34bc35a6'}       4            Ellen Ripley   \n24  {'$oid': '5de53db55c71bd8a34bc35a7'}       1           Mike Wazowski   \n25  {'$oid': '5de53db55c71bd8a34bc35a8'}       4            Ellen Ripley   \n26  {'$oid': '5de53db55c71bd8a34bc35a9'}       1           Mike Wazowski   \n27  {'$oid': '5de53db55c71bd8a34bc35aa'}       4            Ellen Ripley   \n28  {'$oid': '5de53db55c71bd8a34bc35ab'}       1           Mike Wazowski   \n29  {'$oid': '5de53db55c71bd8a34bc35ac'}       4            Ellen Ripley   \n30  {'$oid': '5de53db55c71bd8a34bc35ad'}       5        J. Jonah Jameson   \n31  {'$oid': '5de53db55c71bd8a34bc35ae'}       0               John Wick   \n32  {'$oid': '5de53db55c71bd8a34bc35af'}       5        J. Jonah Jameson   \n33  {'$oid': '5de53db55c71bd8a34bc35b0'}       0               John Wick   \n34  {'$oid': '5de53db55c71bd8a34bc35b1'}       5        J. Jonah Jameson   \n35  {'$oid': '5de53db55c71bd8a34bc35b2'}       0               John Wick   \n36  {'$oid': '5de53db55c71bd8a34bc35b3'}       5        J. Jonah Jameson   \n37  {'$oid': '5de53db55c71bd8a34bc35b4'}       0               John Wick   \n38  {'$oid': '5de53db55c71bd8a34bc35b5'}       5        J. Jonah Jameson   \n39  {'$oid': '5de53db55c71bd8a34bc35b6'}       0               John Wick   \n40  {'$oid': '5de53db55c71bd8a34bc35b7'}       6  Danny Torrances Finger   \n41  {'$oid': '5de53db55c71bd8a34bc35b8'}       7          Danny Torrance   \n42  {'$oid': '5de53db55c71bd8a34bc35b9'}       6  Danny Torrances Finger   \n43  {'$oid': '5de53db55c71bd8a34bc35ba'}       7          Danny Torrance   \n44  {'$oid': '5de53db55c71bd8a34bc35bb'}       6  Danny Torrances Finger   \n45  {'$oid': '5de53db55c71bd8a34bc35bc'}       7          Danny Torrance   \n46  {'$oid': '5de53db55c71bd8a34bc35bd'}       6  Danny Torrances Finger   \n47  {'$oid': '5de53db55c71bd8a34bc35be'}       7          Danny Torrance   \n48  {'$oid': '5de53db55c71bd8a34bc35bf'}       6  Danny Torrances Finger   \n49  {'$oid': '5de53db55c71bd8a34bc35c0'}       7          Danny Torrance   \n\n    idMessage  idChat             datetime  \\\n0           0       0  2019-10-17 10:15:41   \n1           1       0  2019-10-17 10:16:59   \n2           2       0  2019-10-17 10:17:31   \n3           3       0  2019-10-17 10:18:41   \n4           4       0  2019-10-17 10:19:41   \n5           5       0  2019-10-17 10:20:41   \n6           6       0  2019-10-17 10:21:41   \n7           7       0  2019-10-17 10:22:41   \n8           8       0  2019-10-17 10:23:41   \n9           9       0  2019-10-17 10:24:41   \n10         10       1  2019-10-18 10:15:41   \n11         11       1  2019-10-18 10:16:41   \n12         12       1  2019-10-18 10:17:41   \n13         13       1  2019-10-18 10:18:41   \n14         14       1  2019-10-18 10:19:41   \n15         15       1  2019-10-18 10:20:41   \n16         16       1  2019-10-18 10:21:41   \n17         17       1  2019-10-18 10:22:41   \n18         18       1  2019-10-18 10:23:41   \n19         19       1  2019-10-18 10:24:41   \n20         20       2  2019-10-19 10:15:41   \n21         21       2  2019-10-19 10:16:41   \n22         22       2  2019-10-19 10:17:41   \n23         23       2  2019-10-19 10:18:41   \n24         24       2  2019-10-19 10:19:41   \n25         25       2  2019-10-19 10:20:41   \n26         26       2  2019-10-19 10:21:41   \n27         27       2  2019-10-19 10:22:41   \n28         28       2  2019-10-19 10:23:41   \n29         29       2  2019-10-19 10:24:41   \n30         30       3  2019-10-20 10:15:41   \n31         31       3  2019-10-20 10:16:41   \n32         32       3  2019-10-20 10:17:41   \n33         33       3  2019-10-20 10:18:41   \n34         34       3  2019-10-20 10:19:41   \n35         35       3  2019-10-20 10:20:41   \n36         36       3  2019-10-20 10:21:41   \n37         37       3  2019-10-20 10:22:41   \n38         38       3  2019-10-20 10:23:41   \n39         39       3  2019-10-20 10:24:41   \n40         40       4  2019-10-21 10:15:41   \n41         41       4  2019-10-21 10:16:41   \n42         42       4  2019-10-21 10:17:41   \n43         43       4  2019-10-21 10:18:41   \n44         44       4  2019-10-21 10:19:41   \n45         45       4  2019-10-21 10:20:41   \n46         46       4  2019-10-21 10:21:41   \n47         47       4  2019-10-21 10:22:41   \n48         48       4  2019-10-21 10:23:41   \n49         49       4  2019-10-21 10:24:41   \n\n                                                 text  \n0                                Hey Mike, whats up??  \n1       Dude!!! 😀️ Did you watch the game last night?  \n2                        No, had to work. How was it?  \n3                   Awesome! Boyander scored 3 goals!  \n4                                          No way! 😮️  \n5                                              Way...  \n6                             I bet people went crazy  \n7          For sure. We stayed at KuboLoco until 6AM.  \n8                          Motherfucker! Hungover? 😵️  \n9               Dead, burried and still suffering! 🤮️  \n10                             Im so angry right now!  \n11  I saw you this morning. You shouldnt get so up...  \n12  Impossible! Cant do it! Just cant! He pissed m...  \n13  Dont get so frustrated, Leia. Remember what Ge...  \n14  But how am I suposed to fix the facial recogni...  \n15                       Im sure you will find a way.  \n16                       And who the hell is Tony? 🤯️  \n17                                      I am Iron Man  \n18    Oh shit. I think youre friends with my brother.  \n19                    Uh-Oh. Better fix that quickly.  \n20         Sweety pie! How Ive longed to talk to you.  \n21                          Not again, Michael.... 😒️  \n22  Its Mike, honey bunny. Or doctor LOVE! And you...  \n23  Im gonna report you to Human Resources again, ...  \n24                        Cant handle me on your own?  \n25  Id rather have a fucking alien crawling out of...  \n26                            That would be hot... 🔥️  \n27     Ok, youve got to stop drinking! Im calling HR.  \n28                  I NEED VODKA LIKE A CAR NEEDS GAS  \n29   Dude... Alcoholics Anonymous: https://www.aa.org  \n30  I want pictures of Spiderman and I want them now!  \n31                                        Sure, boss.  \n32                    Youve got to take me seriously.  \n33       I do! I just dont feel appreciated in my job  \n34   Thats why youve got to get those damm pictures!!  \n35                                         I dunno...  \n36  Get the god damn motherfucking fuckity fuck bl...  \n37                                              Maybe  \n38                 Youve got to! And I believe in you  \n39             Thank you, boss! I feel much better...  \n40                                             REDRUM  \n41                                     What was that?  \n42                               REDRUM REDRUM REDRUM  \n43         Did you mean red room? Id love a red room.  \n44    Murder, bro, cold blooded splashy murderous fun  \n45             Chill out, pinky.. Its such a nice day  \n46                        A nice day to create havoc!  \n47  Ill go for a walk in the park, I guess. Maybe ...  \n48     Fishing sounds good. What about the labyrinth?  \n49                    No! That places creeps me out..  "
     },
     "execution_count": 19,
     "metadata": {},
     "output_type": "execute_result"
    }
   ],
   "source": [
    "df"
   ]
  },
  {
   "cell_type": "code",
   "execution_count": 20,
   "metadata": {},
   "outputs": [],
   "source": [
    "df2 = df[['userName','text']]"
   ]
  },
  {
   "cell_type": "code",
   "execution_count": 21,
   "metadata": {},
   "outputs": [
    {
     "data": {
      "text/html": "<div>\n<style scoped>\n    .dataframe tbody tr th:only-of-type {\n        vertical-align: middle;\n    }\n\n    .dataframe tbody tr th {\n        vertical-align: top;\n    }\n\n    .dataframe thead th {\n        text-align: right;\n    }\n</style>\n<table border=\"1\" class=\"dataframe\">\n  <thead>\n    <tr style=\"text-align: right;\">\n      <th></th>\n      <th>userName</th>\n      <th>text</th>\n    </tr>\n  </thead>\n  <tbody>\n    <tr>\n      <th>0</th>\n      <td>John Wick</td>\n      <td>Hey Mike, whats up??</td>\n    </tr>\n    <tr>\n      <th>1</th>\n      <td>Mike Wazowski</td>\n      <td>Dude!!! 😀️ Did you watch the game last night?</td>\n    </tr>\n    <tr>\n      <th>2</th>\n      <td>John Wick</td>\n      <td>No, had to work. How was it?</td>\n    </tr>\n    <tr>\n      <th>3</th>\n      <td>Mike Wazowski</td>\n      <td>Awesome! Boyander scored 3 goals!</td>\n    </tr>\n    <tr>\n      <th>4</th>\n      <td>John Wick</td>\n      <td>No way! 😮️</td>\n    </tr>\n    <tr>\n      <th>5</th>\n      <td>Mike Wazowski</td>\n      <td>Way...</td>\n    </tr>\n    <tr>\n      <th>6</th>\n      <td>John Wick</td>\n      <td>I bet people went crazy</td>\n    </tr>\n    <tr>\n      <th>7</th>\n      <td>Mike Wazowski</td>\n      <td>For sure. We stayed at KuboLoco until 6AM.</td>\n    </tr>\n    <tr>\n      <th>8</th>\n      <td>John Wick</td>\n      <td>Motherfucker! Hungover? 😵️</td>\n    </tr>\n    <tr>\n      <th>9</th>\n      <td>Mike Wazowski</td>\n      <td>Dead, burried and still suffering! 🤮️</td>\n    </tr>\n    <tr>\n      <th>10</th>\n      <td>Leia Organa</td>\n      <td>Im so angry right now!</td>\n    </tr>\n    <tr>\n      <th>11</th>\n      <td>Tony Stark</td>\n      <td>I saw you this morning. You shouldnt get so up...</td>\n    </tr>\n    <tr>\n      <th>12</th>\n      <td>Leia Organa</td>\n      <td>Impossible! Cant do it! Just cant! He pissed m...</td>\n    </tr>\n    <tr>\n      <th>13</th>\n      <td>Tony Stark</td>\n      <td>Dont get so frustrated, Leia. Remember what Ge...</td>\n    </tr>\n    <tr>\n      <th>14</th>\n      <td>Leia Organa</td>\n      <td>But how am I suposed to fix the facial recogni...</td>\n    </tr>\n    <tr>\n      <th>15</th>\n      <td>Tony Stark</td>\n      <td>Im sure you will find a way.</td>\n    </tr>\n    <tr>\n      <th>16</th>\n      <td>Leia Organa</td>\n      <td>And who the hell is Tony? 🤯️</td>\n    </tr>\n    <tr>\n      <th>17</th>\n      <td>Tony Stark</td>\n      <td>I am Iron Man</td>\n    </tr>\n    <tr>\n      <th>18</th>\n      <td>Leia Organa</td>\n      <td>Oh shit. I think youre friends with my brother.</td>\n    </tr>\n    <tr>\n      <th>19</th>\n      <td>Tony Stark</td>\n      <td>Uh-Oh. Better fix that quickly.</td>\n    </tr>\n    <tr>\n      <th>20</th>\n      <td>Mike Wazowski</td>\n      <td>Sweety pie! How Ive longed to talk to you.</td>\n    </tr>\n    <tr>\n      <th>21</th>\n      <td>Ellen Ripley</td>\n      <td>Not again, Michael.... 😒️</td>\n    </tr>\n    <tr>\n      <th>22</th>\n      <td>Mike Wazowski</td>\n      <td>Its Mike, honey bunny. Or doctor LOVE! And you...</td>\n    </tr>\n    <tr>\n      <th>23</th>\n      <td>Ellen Ripley</td>\n      <td>Im gonna report you to Human Resources again, ...</td>\n    </tr>\n    <tr>\n      <th>24</th>\n      <td>Mike Wazowski</td>\n      <td>Cant handle me on your own?</td>\n    </tr>\n    <tr>\n      <th>25</th>\n      <td>Ellen Ripley</td>\n      <td>Id rather have a fucking alien crawling out of...</td>\n    </tr>\n    <tr>\n      <th>26</th>\n      <td>Mike Wazowski</td>\n      <td>That would be hot... 🔥️</td>\n    </tr>\n    <tr>\n      <th>27</th>\n      <td>Ellen Ripley</td>\n      <td>Ok, youve got to stop drinking! Im calling HR.</td>\n    </tr>\n    <tr>\n      <th>28</th>\n      <td>Mike Wazowski</td>\n      <td>I NEED VODKA LIKE A CAR NEEDS GAS</td>\n    </tr>\n    <tr>\n      <th>29</th>\n      <td>Ellen Ripley</td>\n      <td>Dude... Alcoholics Anonymous: https://www.aa.org</td>\n    </tr>\n    <tr>\n      <th>30</th>\n      <td>J. Jonah Jameson</td>\n      <td>I want pictures of Spiderman and I want them now!</td>\n    </tr>\n    <tr>\n      <th>31</th>\n      <td>John Wick</td>\n      <td>Sure, boss.</td>\n    </tr>\n    <tr>\n      <th>32</th>\n      <td>J. Jonah Jameson</td>\n      <td>Youve got to take me seriously.</td>\n    </tr>\n    <tr>\n      <th>33</th>\n      <td>John Wick</td>\n      <td>I do! I just dont feel appreciated in my job</td>\n    </tr>\n    <tr>\n      <th>34</th>\n      <td>J. Jonah Jameson</td>\n      <td>Thats why youve got to get those damm pictures!!</td>\n    </tr>\n    <tr>\n      <th>35</th>\n      <td>John Wick</td>\n      <td>I dunno...</td>\n    </tr>\n    <tr>\n      <th>36</th>\n      <td>J. Jonah Jameson</td>\n      <td>Get the god damn motherfucking fuckity fuck bl...</td>\n    </tr>\n    <tr>\n      <th>37</th>\n      <td>John Wick</td>\n      <td>Maybe</td>\n    </tr>\n    <tr>\n      <th>38</th>\n      <td>J. Jonah Jameson</td>\n      <td>Youve got to! And I believe in you</td>\n    </tr>\n    <tr>\n      <th>39</th>\n      <td>John Wick</td>\n      <td>Thank you, boss! I feel much better...</td>\n    </tr>\n    <tr>\n      <th>40</th>\n      <td>Danny Torrances Finger</td>\n      <td>REDRUM</td>\n    </tr>\n    <tr>\n      <th>41</th>\n      <td>Danny Torrance</td>\n      <td>What was that?</td>\n    </tr>\n    <tr>\n      <th>42</th>\n      <td>Danny Torrances Finger</td>\n      <td>REDRUM REDRUM REDRUM</td>\n    </tr>\n    <tr>\n      <th>43</th>\n      <td>Danny Torrance</td>\n      <td>Did you mean red room? Id love a red room.</td>\n    </tr>\n    <tr>\n      <th>44</th>\n      <td>Danny Torrances Finger</td>\n      <td>Murder, bro, cold blooded splashy murderous fun</td>\n    </tr>\n    <tr>\n      <th>45</th>\n      <td>Danny Torrance</td>\n      <td>Chill out, pinky.. Its such a nice day</td>\n    </tr>\n    <tr>\n      <th>46</th>\n      <td>Danny Torrances Finger</td>\n      <td>A nice day to create havoc!</td>\n    </tr>\n    <tr>\n      <th>47</th>\n      <td>Danny Torrance</td>\n      <td>Ill go for a walk in the park, I guess. Maybe ...</td>\n    </tr>\n    <tr>\n      <th>48</th>\n      <td>Danny Torrances Finger</td>\n      <td>Fishing sounds good. What about the labyrinth?</td>\n    </tr>\n    <tr>\n      <th>49</th>\n      <td>Danny Torrance</td>\n      <td>No! That places creeps me out..</td>\n    </tr>\n  </tbody>\n</table>\n</div>",
      "text/plain": "                  userName                                               text\n0                John Wick                               Hey Mike, whats up??\n1            Mike Wazowski      Dude!!! 😀️ Did you watch the game last night?\n2                John Wick                       No, had to work. How was it?\n3            Mike Wazowski                  Awesome! Boyander scored 3 goals!\n4                John Wick                                         No way! 😮️\n5            Mike Wazowski                                             Way...\n6                John Wick                            I bet people went crazy\n7            Mike Wazowski         For sure. We stayed at KuboLoco until 6AM.\n8                John Wick                         Motherfucker! Hungover? 😵️\n9            Mike Wazowski              Dead, burried and still suffering! 🤮️\n10             Leia Organa                             Im so angry right now!\n11              Tony Stark  I saw you this morning. You shouldnt get so up...\n12             Leia Organa  Impossible! Cant do it! Just cant! He pissed m...\n13              Tony Stark  Dont get so frustrated, Leia. Remember what Ge...\n14             Leia Organa  But how am I suposed to fix the facial recogni...\n15              Tony Stark                       Im sure you will find a way.\n16             Leia Organa                       And who the hell is Tony? 🤯️\n17              Tony Stark                                      I am Iron Man\n18             Leia Organa    Oh shit. I think youre friends with my brother.\n19              Tony Stark                    Uh-Oh. Better fix that quickly.\n20           Mike Wazowski         Sweety pie! How Ive longed to talk to you.\n21            Ellen Ripley                          Not again, Michael.... 😒️\n22           Mike Wazowski  Its Mike, honey bunny. Or doctor LOVE! And you...\n23            Ellen Ripley  Im gonna report you to Human Resources again, ...\n24           Mike Wazowski                        Cant handle me on your own?\n25            Ellen Ripley  Id rather have a fucking alien crawling out of...\n26           Mike Wazowski                            That would be hot... 🔥️\n27            Ellen Ripley     Ok, youve got to stop drinking! Im calling HR.\n28           Mike Wazowski                  I NEED VODKA LIKE A CAR NEEDS GAS\n29            Ellen Ripley   Dude... Alcoholics Anonymous: https://www.aa.org\n30        J. Jonah Jameson  I want pictures of Spiderman and I want them now!\n31               John Wick                                        Sure, boss.\n32        J. Jonah Jameson                    Youve got to take me seriously.\n33               John Wick       I do! I just dont feel appreciated in my job\n34        J. Jonah Jameson   Thats why youve got to get those damm pictures!!\n35               John Wick                                         I dunno...\n36        J. Jonah Jameson  Get the god damn motherfucking fuckity fuck bl...\n37               John Wick                                              Maybe\n38        J. Jonah Jameson                 Youve got to! And I believe in you\n39               John Wick             Thank you, boss! I feel much better...\n40  Danny Torrances Finger                                             REDRUM\n41          Danny Torrance                                     What was that?\n42  Danny Torrances Finger                               REDRUM REDRUM REDRUM\n43          Danny Torrance         Did you mean red room? Id love a red room.\n44  Danny Torrances Finger    Murder, bro, cold blooded splashy murderous fun\n45          Danny Torrance             Chill out, pinky.. Its such a nice day\n46  Danny Torrances Finger                        A nice day to create havoc!\n47          Danny Torrance  Ill go for a walk in the park, I guess. Maybe ...\n48  Danny Torrances Finger     Fishing sounds good. What about the labyrinth?\n49          Danny Torrance                    No! That places creeps me out.."
     },
     "execution_count": 21,
     "metadata": {},
     "output_type": "execute_result"
    }
   ],
   "source": [
    "df2"
   ]
  },
  {
   "cell_type": "code",
   "execution_count": 39,
   "metadata": {},
   "outputs": [
    {
     "data": {
      "text/plain": "['Hey Mike, whats up??',\n 'Dude!!! 😀️ Did you watch the game last night?',\n 'No, had to work. How was it?',\n 'Awesome! Boyander scored 3 goals!',\n 'No way! 😮️',\n 'Way...',\n 'I bet people went crazy',\n 'For sure. We stayed at KuboLoco until 6AM.',\n 'Motherfucker! Hungover? 😵️',\n 'Dead, burried and still suffering! \\U0001f92e️',\n 'Im so angry right now!',\n 'I saw you this morning. You shouldnt get so upset. ❤️',\n 'Impossible! Cant do it! Just cant! He pissed me off so much.',\n 'Dont get so frustrated, Leia. Remember what German said.',\n 'But how am I suposed to fix the facial recognition system if it doesnt even work?',\n 'Im sure you will find a way.',\n 'And who the hell is Tony? \\U0001f92f️',\n 'I am Iron Man',\n 'Oh shit. I think youre friends with my brother.',\n 'Uh-Oh. Better fix that quickly.',\n 'Sweety pie! How Ive longed to talk to you.',\n 'Not again, Michael.... 😒️',\n 'Its Mike, honey bunny. Or doctor LOVE! And youre a sick little girl.',\n 'Im gonna report you to Human Resources again, Michael.',\n 'Cant handle me on your own?',\n 'Id rather have a fucking alien crawling out of my ass',\n 'That would be hot... 🔥️',\n 'Ok, youve got to stop drinking! Im calling HR.',\n 'I NEED VODKA LIKE A CAR NEEDS GAS',\n 'Dude... Alcoholics Anonymous: https://www.aa.org',\n 'I want pictures of Spiderman and I want them now!',\n 'Sure, boss.',\n 'Youve got to take me seriously.',\n 'I do! I just dont feel appreciated in my job',\n 'Thats why youve got to get those damm pictures!!',\n 'I dunno...',\n 'Get the god damn motherfucking fuckity fuck bloody ballsack pictures',\n 'Maybe',\n 'Youve got to! And I believe in you',\n 'Thank you, boss! I feel much better...',\n 'REDRUM',\n 'What was that?',\n 'REDRUM REDRUM REDRUM',\n 'Did you mean red room? Id love a red room.',\n 'Murder, bro, cold blooded splashy murderous fun',\n 'Chill out, pinky.. Its such a nice day',\n 'A nice day to create havoc!',\n 'Ill go for a walk in the park, I guess. Maybe fishing',\n 'Fishing sounds good. What about the labyrinth?',\n 'No! That places creeps me out..']"
     },
     "execution_count": 39,
     "metadata": {},
     "output_type": "execute_result"
    }
   ],
   "source": [
    "text = {}\n",
    "user_name = []\n",
    "texts = []\n",
    "for e in df2['userName']:\n",
    "    user_name.append(e)\n",
    "for e in df2['text']:\n",
    "    texts.append(e)\n",
    "x = list(zip(user_name,texts))"
   ]
  },
  {
   "cell_type": "code",
   "execution_count": 0,
   "metadata": {},
   "outputs": [],
   "source": [
    "text = {}\n",
    "for e in range(len(df2)):\n",
    "    text[e] = text[e]"
   ]
  },
  {
   "cell_type": "code",
   "execution_count": 0,
   "metadata": {},
   "outputs": [],
   "source": [
    "text"
   ]
  },
  {
   "cell_type": "code",
   "execution_count": 0,
   "metadata": {},
   "outputs": [],
   "source": [
    "text.values()"
   ]
  },
  {
   "cell_type": "code",
   "metadata": {},
   "outputs": [],
   "source": [
    "count_vectorizer = CountVectorizer()\n",
    "sparse_matrix = count_vectorizer.fit_transform(text.values())\n",
    "sparse_matrix"
   ]
  },
  {
   "cell_type": "code",
   "metadata": {},
   "outputs": [],
   "source": [
    "doc_term_matrix = sparse_matrix.todense()\n",
    "df = pd.DataFrame(doc_term_matrix, \n",
    "                  columns=count_vectorizer.get_feature_names(), \n",
    "                  index=text.keys())\n",
    "display(df)"
   ]
  },
  {
   "cell_type": "code",
   "metadata": {},
   "outputs": [],
   "source": [
    "similarity_matrix = distance(df, df)\n",
    "print(similarity_matrix)"
   ]
  },
  {
   "cell_type": "code",
   "metadata": {},
   "outputs": [],
   "source": [
    "# Convert it to dataframe to visualize with seaborn\n",
    "import seaborn as sns\n",
    "sim_df = pd.DataFrame(similarity_matrix, columns=text.keys(), index=text.keys())\n",
    "display(sim_df)\n",
    "sns.heatmap(sim_df,annot=True)"
   ]
  },
  {
   "cell_type": "code",
   "metadata": {},
   "outputs": [],
   "source": [
    "# Max similarities of related documents\n",
    "import numpy as np\n",
    "np.fill_diagonal(sim_df.values, 0) # Remove diagonal max values and set those to 0\n",
    "sim_df.idxmax()"
   ]
  },
  {
   "cell_type": "code",
   "metadata": {},
   "outputs": [],
   "source": []
  }
 ]
}