{
 "nbformat": 4,
 "nbformat_minor": 2,
 "metadata": {
  "language_info": {
   "name": "python",
   "codemirror_mode": {
    "name": "ipython",
    "version": 3
   },
   "version": "3.6.9"
  },
  "orig_nbformat": 2,
  "file_extension": ".py",
  "mimetype": "text/x-python",
  "name": "python",
  "npconvert_exporter": "python",
  "pygments_lexer": "ipython3",
  "version": 3
 },
 "cells": [
  {
   "cell_type": "code",
   "execution_count": 75,
   "metadata": {},
   "outputs": [],
   "source": [
    "import json\n",
    "import pandas as pd\n",
    "import nltk \n",
    "from nltk.sentiment.vader import SentimentIntensityAnalyzer"
   ]
  },
  {
   "cell_type": "code",
   "execution_count": 76,
   "metadata": {},
   "outputs": [],
   "source": [
    "id = 0\n",
    "\n",
    "URL = f\"http://localhost:8080/chat/{id}/list\"\n",
    "\n",
    "\n",
    "data = requests.get(url = URL).json()"
   ]
  },
  {
   "cell_type": "code",
   "execution_count": 77,
   "metadata": {},
   "outputs": [],
   "source": [
    "new_df = pd.DataFrame()\n",
    "\n",
    "df = pd.DataFrame(data)\n",
    "new_df=pd.concat([new_df,df])"
   ]
  },
  {
   "cell_type": "code",
   "execution_count": 78,
   "metadata": {},
   "outputs": [
    {
     "data": {
      "text/html": "<div>\n<style scoped>\n    .dataframe tbody tr th:only-of-type {\n        vertical-align: middle;\n    }\n\n    .dataframe tbody tr th {\n        vertical-align: top;\n    }\n\n    .dataframe thead th {\n        text-align: right;\n    }\n</style>\n<table border=\"1\" class=\"dataframe\">\n  <thead>\n    <tr style=\"text-align: right;\">\n      <th></th>\n      <th>_id</th>\n      <th>idUser</th>\n      <th>userName</th>\n      <th>idMessage</th>\n      <th>idChat</th>\n      <th>datetime</th>\n      <th>text</th>\n    </tr>\n  </thead>\n  <tbody>\n    <tr>\n      <th>0</th>\n      <td>{'$oid': '5de53db55c71bd8a34bc358f'}</td>\n      <td>0</td>\n      <td>John Wick</td>\n      <td>0</td>\n      <td>0</td>\n      <td>2019-10-17 10:15:41</td>\n      <td>Hey Mike, whats up??</td>\n    </tr>\n    <tr>\n      <th>1</th>\n      <td>{'$oid': '5de53db55c71bd8a34bc3590'}</td>\n      <td>1</td>\n      <td>Mike Wazowski</td>\n      <td>1</td>\n      <td>0</td>\n      <td>2019-10-17 10:16:59</td>\n      <td>Dude!!! 😀️ Did you watch the game last night?</td>\n    </tr>\n    <tr>\n      <th>2</th>\n      <td>{'$oid': '5de53db55c71bd8a34bc3591'}</td>\n      <td>0</td>\n      <td>John Wick</td>\n      <td>2</td>\n      <td>0</td>\n      <td>2019-10-17 10:17:31</td>\n      <td>No, had to work. How was it?</td>\n    </tr>\n    <tr>\n      <th>3</th>\n      <td>{'$oid': '5de53db55c71bd8a34bc3592'}</td>\n      <td>1</td>\n      <td>Mike Wazowski</td>\n      <td>3</td>\n      <td>0</td>\n      <td>2019-10-17 10:18:41</td>\n      <td>Awesome! Boyander scored 3 goals!</td>\n    </tr>\n    <tr>\n      <th>4</th>\n      <td>{'$oid': '5de53db55c71bd8a34bc3593'}</td>\n      <td>0</td>\n      <td>John Wick</td>\n      <td>4</td>\n      <td>0</td>\n      <td>2019-10-17 10:19:41</td>\n      <td>No way! 😮️</td>\n    </tr>\n    <tr>\n      <th>5</th>\n      <td>{'$oid': '5de53db55c71bd8a34bc3594'}</td>\n      <td>1</td>\n      <td>Mike Wazowski</td>\n      <td>5</td>\n      <td>0</td>\n      <td>2019-10-17 10:20:41</td>\n      <td>Way...</td>\n    </tr>\n    <tr>\n      <th>6</th>\n      <td>{'$oid': '5de53db55c71bd8a34bc3595'}</td>\n      <td>0</td>\n      <td>John Wick</td>\n      <td>6</td>\n      <td>0</td>\n      <td>2019-10-17 10:21:41</td>\n      <td>I bet people went crazy</td>\n    </tr>\n    <tr>\n      <th>7</th>\n      <td>{'$oid': '5de53db55c71bd8a34bc3596'}</td>\n      <td>1</td>\n      <td>Mike Wazowski</td>\n      <td>7</td>\n      <td>0</td>\n      <td>2019-10-17 10:22:41</td>\n      <td>For sure. We stayed at KuboLoco until 6AM.</td>\n    </tr>\n    <tr>\n      <th>8</th>\n      <td>{'$oid': '5de53db55c71bd8a34bc3597'}</td>\n      <td>0</td>\n      <td>John Wick</td>\n      <td>8</td>\n      <td>0</td>\n      <td>2019-10-17 10:23:41</td>\n      <td>Motherfucker! Hungover? 😵️</td>\n    </tr>\n    <tr>\n      <th>9</th>\n      <td>{'$oid': '5de53db55c71bd8a34bc3598'}</td>\n      <td>1</td>\n      <td>Mike Wazowski</td>\n      <td>9</td>\n      <td>0</td>\n      <td>2019-10-17 10:24:41</td>\n      <td>Dead, burried and still suffering! 🤮️</td>\n    </tr>\n  </tbody>\n</table>\n</div>",
      "text/plain": "                                    _id  idUser       userName  idMessage  \\\n0  {'$oid': '5de53db55c71bd8a34bc358f'}       0      John Wick          0   \n1  {'$oid': '5de53db55c71bd8a34bc3590'}       1  Mike Wazowski          1   \n2  {'$oid': '5de53db55c71bd8a34bc3591'}       0      John Wick          2   \n3  {'$oid': '5de53db55c71bd8a34bc3592'}       1  Mike Wazowski          3   \n4  {'$oid': '5de53db55c71bd8a34bc3593'}       0      John Wick          4   \n5  {'$oid': '5de53db55c71bd8a34bc3594'}       1  Mike Wazowski          5   \n6  {'$oid': '5de53db55c71bd8a34bc3595'}       0      John Wick          6   \n7  {'$oid': '5de53db55c71bd8a34bc3596'}       1  Mike Wazowski          7   \n8  {'$oid': '5de53db55c71bd8a34bc3597'}       0      John Wick          8   \n9  {'$oid': '5de53db55c71bd8a34bc3598'}       1  Mike Wazowski          9   \n\n   idChat             datetime                                           text  \n0       0  2019-10-17 10:15:41                           Hey Mike, whats up??  \n1       0  2019-10-17 10:16:59  Dude!!! 😀️ Did you watch the game last night?  \n2       0  2019-10-17 10:17:31                   No, had to work. How was it?  \n3       0  2019-10-17 10:18:41              Awesome! Boyander scored 3 goals!  \n4       0  2019-10-17 10:19:41                                     No way! 😮️  \n5       0  2019-10-17 10:20:41                                         Way...  \n6       0  2019-10-17 10:21:41                        I bet people went crazy  \n7       0  2019-10-17 10:22:41     For sure. We stayed at KuboLoco until 6AM.  \n8       0  2019-10-17 10:23:41                     Motherfucker! Hungover? 😵️  \n9       0  2019-10-17 10:24:41          Dead, burried and still suffering! 🤮️  "
     },
     "execution_count": 78,
     "metadata": {},
     "output_type": "execute_result"
    }
   ],
   "source": [
    "new_df"
   ]
  },
  {
   "cell_type": "code",
   "execution_count": 79,
   "metadata": {},
   "outputs": [
    {
     "name": "stdout",
     "output_type": "stream",
     "text": "{'neg': 0.0, 'neu': 1.0, 'pos': 0.0, 'compound': 0.0}\n{'neg': 0.0, 'neu': 1.0, 'pos': 0.0, 'compound': 0.0}\n{'neg': 0.268, 'neu': 0.732, 'pos': 0.0, 'compound': -0.296}\n{'neg': 0.0, 'neu': 0.39, 'pos': 0.61, 'compound': 0.6892}\n{'neg': 0.555, 'neu': 0.445, 'pos': 0.0, 'compound': -0.3595}\n{'neg': 0.0, 'neu': 1.0, 'pos': 0.0, 'compound': 0.0}\n{'neg': 0.444, 'neu': 0.556, 'pos': 0.0, 'compound': -0.34}\n{'neg': 0.0, 'neu': 0.753, 'pos': 0.247, 'compound': 0.3182}\n{'neg': 0.71, 'neu': 0.29, 'pos': 0.0, 'compound': -0.7088}\n{'neg': 0.658, 'neu': 0.342, 'pos': 0.0, 'compound': -0.8268}\n"
    }
   ],
   "source": [
    "sid = SentimentIntensityAnalyzer()\n",
    "\n",
    "for e in range(len(new_df['text'])):\n",
    "    print(sid.polarity_scores(new_df['text'][e]))"
   ]
  },
  {
   "cell_type": "code",
   "execution_count": 102,
   "metadata": {},
   "outputs": [],
   "source": [
    "for e in range(len(new_df)):\n",
    "    sid.polarity_scores(new_df['text'][e])"
   ]
  },
  {
   "cell_type": "code",
   "execution_count": 105,
   "metadata": {},
   "outputs": [],
   "source": [
    "sentiment_json = {}\n",
    "sid = SentimentIntensityAnalyzer()\n",
    "for e in range(len(new_df)):\n",
    "    sentiment_json[new_df['userName'][e]] = [y for x,y in sid.polarity_scores(new_df['text'][e]).items() if y != 0.0]"
   ]
  },
  {
   "cell_type": "code",
   "execution_count": 113,
   "metadata": {},
   "outputs": [
    {
     "data": {
      "text/plain": "{'John Wick': [0.71, 0.29, -0.7088], 'Mike Wazowski': [0.658, 0.342, -0.8268]}"
     },
     "execution_count": 113,
     "metadata": {},
     "output_type": "execute_result"
    }
   ],
   "source": [
    "sentiment_json"
   ]
  },
  {
   "cell_type": "code",
   "execution_count": 99,
   "metadata": {},
   "outputs": [
    {
     "data": {
      "text/plain": "[0.658, 0.342, -0.8268]"
     },
     "execution_count": 99,
     "metadata": {},
     "output_type": "execute_result"
    }
   ],
   "source": [
    "lst = {'neg': 0.658, 'neu': 0.342, 'pos': 0.0, 'compound': -0.8268}\n",
    "sid.polarity_scores(new_df['text'][e]\n",
    "[y for x,y in lst.items() if y != 0.0]"
   ]
  },
  {
   "source": [
    "import requests"
   ],
   "cell_type": "code",
   "outputs": [],
   "metadata": {},
   "execution_count": 2
  },
  {
   "source": [
    "URL2 = f\"http://localhost:8080/chat/0/sentiment\"\n",
    "data2 = requests.get(url = URL2).json()"
   ],
   "cell_type": "code",
   "outputs": [],
   "metadata": {},
   "execution_count": 3
  },
  {
   "source": [
    "data2"
   ],
   "cell_type": "code",
   "outputs": [
    {
     "output_type": "execute_result",
     "data": {
      "text/plain": "{'John Wick': {'neg': 0.71, 'neu': 0.29, 'pos': 0.0, 'compound': -0.7088},\n 'Mike Wazowski': {'neg': 0.658,\n  'neu': 0.342,\n  'pos': 0.0,\n  'compound': -0.8268}}"
     },
     "metadata": {},
     "execution_count": 4
    }
   ],
   "metadata": {},
   "execution_count": 4
  },
  {
   "cell_type": "code",
   "execution_count": null,
   "metadata": {},
   "outputs": [],
   "source": []
  },
  {
   "cell_type": "code",
   "execution_count": null,
   "metadata": {},
   "outputs": [],
   "source": []
  }
 ]
}