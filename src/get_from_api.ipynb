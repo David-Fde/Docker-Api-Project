{
 "nbformat": 4,
 "nbformat_minor": 2,
 "metadata": {
  "language_info": {
   "name": "python",
   "codemirror_mode": {
    "name": "ipython",
    "version": 3
   },
   "version": "3.6.9"
  },
  "orig_nbformat": 2,
  "file_extension": ".py",
  "mimetype": "text/x-python",
  "name": "python",
  "npconvert_exporter": "python",
  "pygments_lexer": "ipython3",
  "version": 3
 },
 "cells": [
  {
   "cell_type": "code",
   "execution_count": 91,
   "metadata": {},
   "outputs": [
    {
     "ename": "AttributeError",
     "evalue": "'list' object has no attribute 'to_json'",
     "output_type": "error",
     "traceback": [
      "\u001b[0;31m---------------------------------------------------------------------------\u001b[0m",
      "\u001b[0;31mAttributeError\u001b[0m                            Traceback (most recent call last)",
      "\u001b[0;32m<ipython-input-91-1314ee25899e>\u001b[0m in \u001b[0;36m<module>\u001b[0;34m\u001b[0m\n\u001b[1;32m     10\u001b[0m \u001b[0mdata\u001b[0m \u001b[0;34m=\u001b[0m \u001b[0mrequests\u001b[0m\u001b[0;34m.\u001b[0m\u001b[0mget\u001b[0m\u001b[0;34m(\u001b[0m\u001b[0murl\u001b[0m \u001b[0;34m=\u001b[0m \u001b[0mURL\u001b[0m\u001b[0;34m)\u001b[0m\u001b[0;34m.\u001b[0m\u001b[0mjson\u001b[0m\u001b[0;34m(\u001b[0m\u001b[0;34m)\u001b[0m\u001b[0;34m\u001b[0m\u001b[0;34m\u001b[0m\u001b[0m\n\u001b[1;32m     11\u001b[0m \u001b[0;34m\u001b[0m\u001b[0m\n\u001b[0;32m---> 12\u001b[0;31m \u001b[0mdata\u001b[0m\u001b[0;34m.\u001b[0m\u001b[0mto_json\u001b[0m\u001b[0;34m(\u001b[0m\u001b[0;34m\"../output/chats/\"\u001b[0m\u001b[0;34m,\u001b[0m \u001b[0morient\u001b[0m\u001b[0;34m=\u001b[0m\u001b[0;34m\"records\"\u001b[0m\u001b[0;34m)\u001b[0m\u001b[0;34m\u001b[0m\u001b[0;34m\u001b[0m\u001b[0m\n\u001b[0m",
      "\u001b[0;31mAttributeError\u001b[0m: 'list' object has no attribute 'to_json'"
     ]
    }
   ],
   "source": [
    "import requests\n",
    "import json\n",
    "import pandas as pd\n",
    "\n",
    "#user = \"John Wick\"\n",
    "id = 4\n",
    "\n",
    "URL = \"http://localhost:8080/chat/{}/list\".format(id)\n",
    "\n",
    "\n",
    "data = requests.get(url = URL).json()\n",
    "\n",
    "df = pd.DataFrame(data)\n",
    "\n",
    "df.to_json(\"../output/chats/\", orient=\"records\")"
   ]
  },
  {
   "cell_type": "code",
   "execution_count": 85,
   "metadata": {},
   "outputs": [
    {
     "data": {
      "text/plain": "[{'_id': {'$oid': '5de39b7d7f8cc91b3849597a'},\n  'idUser': 6,\n  'userName': 'Danny Torrances Finger',\n  'idMessage': 40,\n  'idChat': 4,\n  'datetime': '2019-10-21 10:15:41',\n  'text': 'REDRUM'},\n {'_id': {'$oid': '5de39b7d7f8cc91b3849597b'},\n  'idUser': 7,\n  'userName': 'Danny Torrance',\n  'idMessage': 41,\n  'idChat': 4,\n  'datetime': '2019-10-21 10:16:41',\n  'text': 'What was that?'},\n {'_id': {'$oid': '5de39b7d7f8cc91b3849597c'},\n  'idUser': 6,\n  'userName': 'Danny Torrances Finger',\n  'idMessage': 42,\n  'idChat': 4,\n  'datetime': '2019-10-21 10:17:41',\n  'text': 'REDRUM REDRUM REDRUM'},\n {'_id': {'$oid': '5de39b7d7f8cc91b3849597d'},\n  'idUser': 7,\n  'userName': 'Danny Torrance',\n  'idMessage': 43,\n  'idChat': 4,\n  'datetime': '2019-10-21 10:18:41',\n  'text': 'Did you mean red room? Id love a red room.'},\n {'_id': {'$oid': '5de39b7d7f8cc91b3849597e'},\n  'idUser': 6,\n  'userName': 'Danny Torrances Finger',\n  'idMessage': 44,\n  'idChat': 4,\n  'datetime': '2019-10-21 10:19:41',\n  'text': 'Murder, bro, cold blooded splashy murderous fun'},\n {'_id': {'$oid': '5de39b7d7f8cc91b3849597f'},\n  'idUser': 7,\n  'userName': 'Danny Torrance',\n  'idMessage': 45,\n  'idChat': 4,\n  'datetime': '2019-10-21 10:20:41',\n  'text': 'Chill out, pinky.. Its such a nice day'},\n {'_id': {'$oid': '5de39b7d7f8cc91b38495980'},\n  'idUser': 6,\n  'userName': 'Danny Torrances Finger',\n  'idMessage': 46,\n  'idChat': 4,\n  'datetime': '2019-10-21 10:21:41',\n  'text': 'A nice day to create havoc!'},\n {'_id': {'$oid': '5de39b7d7f8cc91b38495981'},\n  'idUser': 7,\n  'userName': 'Danny Torrance',\n  'idMessage': 47,\n  'idChat': 4,\n  'datetime': '2019-10-21 10:22:41',\n  'text': 'Ill go for a walk in the park, I guess. Maybe fishing'},\n {'_id': {'$oid': '5de39b7d7f8cc91b38495982'},\n  'idUser': 6,\n  'userName': 'Danny Torrances Finger',\n  'idMessage': 48,\n  'idChat': 4,\n  'datetime': '2019-10-21 10:23:41',\n  'text': 'Fishing sounds good. What about the labyrinth?'},\n {'_id': {'$oid': '5de39b7d7f8cc91b38495983'},\n  'idUser': 7,\n  'userName': 'Danny Torrance',\n  'idMessage': 49,\n  'idChat': 4,\n  'datetime': '2019-10-21 10:24:41',\n  'text': 'No! That places creeps me out..'},\n {'_id': {'$oid': '5de4e81a91d2c4041dc67ae5'},\n  'idUser': 8,\n  'userName': 'David',\n  'idMessage': 50,\n  'idChat': 4,\n  'datetime': 'None',\n  'text': 'None'},\n {'_id': {'$oid': '5de4e82c91d2c4041dc67ae6'},\n  'idUser': 9,\n  'userName': 'David',\n  'idMessage': 51,\n  'idChat': 4,\n  'datetime': 'None',\n  'text': 'None'},\n {'_id': {'$oid': '5de4f6021d97e8dab0a9510d'},\n  'idUser': 20,\n  'userName': 'Maria',\n  'idChat': 4,\n  'text': 'Holiiiii, Seora!!!!!'},\n {'_id': {'$oid': '5de4f61d1d97e8dab0a9510e'},\n  'idUser': 21,\n  'userName': 'Maria',\n  'idChat': 4,\n  'text': 'None'}]"
     },
     "execution_count": 85,
     "metadata": {},
     "output_type": "execute_result"
    }
   ],
   "source": [
    "data"
   ]
  },
  {
   "cell_type": "code",
   "execution_count": 86,
   "metadata": {},
   "outputs": [],
   "source": [
    "chats = []\n",
    "texts = []\n",
    "users = []\n",
    "for e in data:\n",
    "    chats.append(e[\"idChat\"])\n",
    "    users.append(e[\"userName\"])\n",
    "    texts.append(e[\"text\"])"
   ]
  },
  {
   "cell_type": "code",
   "execution_count": 87,
   "metadata": {},
   "outputs": [
    {
     "data": {
      "text/plain": "['REDRUM',\n 'What was that?',\n 'REDRUM REDRUM REDRUM',\n 'Did you mean red room? Id love a red room.',\n 'Murder, bro, cold blooded splashy murderous fun',\n 'Chill out, pinky.. Its such a nice day',\n 'A nice day to create havoc!',\n 'Ill go for a walk in the park, I guess. Maybe fishing',\n 'Fishing sounds good. What about the labyrinth?',\n 'No! That places creeps me out..',\n 'None',\n 'None',\n 'Holiiiii, Seora!!!!!',\n 'None']"
     },
     "execution_count": 87,
     "metadata": {},
     "output_type": "execute_result"
    }
   ],
   "source": [
    "texts"
   ]
  },
  {
   "cell_type": "code",
   "execution_count": 90,
   "metadata": {},
   "outputs": [
    {
     "data": {
      "text/plain": "{'Danny Torrance', 'Danny Torrances Finger', 'David', 'Maria'}"
     },
     "execution_count": 90,
     "metadata": {},
     "output_type": "execute_result"
    }
   ],
   "source": [
    "set(users)"
   ]
  },
  {
   "cell_type": "code",
   "execution_count": 89,
   "metadata": {},
   "outputs": [
    {
     "data": {
      "text/plain": "[('Danny Torrances Finger', 'REDRUM'),\n ('Danny Torrance', 'What was that?'),\n ('Danny Torrances Finger', 'REDRUM REDRUM REDRUM'),\n ('Danny Torrance', 'Did you mean red room? Id love a red room.'),\n ('Danny Torrances Finger', 'Murder, bro, cold blooded splashy murderous fun'),\n ('Danny Torrance', 'Chill out, pinky.. Its such a nice day'),\n ('Danny Torrances Finger', 'A nice day to create havoc!'),\n ('Danny Torrance', 'Ill go for a walk in the park, I guess. Maybe fishing'),\n ('Danny Torrances Finger', 'Fishing sounds good. What about the labyrinth?'),\n ('Danny Torrance', 'No! That places creeps me out..'),\n ('David', 'None'),\n ('David', 'None'),\n ('Maria', 'Holiiiii, Seora!!!!!'),\n ('Maria', 'None')]"
     },
     "execution_count": 89,
     "metadata": {},
     "output_type": "execute_result"
    }
   ],
   "source": [
    "z = zip(users,texts)\n",
    "list(z)"
   ]
  },
  {
   "cell_type": "code",
   "execution_count": null,
   "metadata": {},
   "outputs": [],
   "source": []
  },
  {
   "cell_type": "code",
   "execution_count": null,
   "metadata": {},
   "outputs": [],
   "source": []
  },
  {
   "cell_type": "code",
   "execution_count": null,
   "metadata": {},
   "outputs": [],
   "source": []
  }
 ]
}